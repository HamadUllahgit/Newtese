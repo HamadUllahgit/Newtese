{
 "cells": [
  {
   "cell_type": "markdown",
   "metadata": {},
   "source": [
    "<center>\n",
    "    <img src=\"https://cf-courses-data.s3.us.cloud-object-storage.appdomain.cloud/IBMDeveloperSkillsNetwork-DS0105EN-SkillsNetwork/labs/Module2/images/SN_web_lightmode.png\" width=\"300\" alt=\"cognitiveclass.ai logo\">\n",
    "</center>\n"
   ]
  },
  {
   "cell_type": "markdown",
   "metadata": {},
   "source": [
    "#### Add your code below following the instructions given in the course\n"
   ]
  },
  {
   "cell_type": "markdown",
   "metadata": {},
   "source": [
    "Data Science Tools and Ecosystem"
   ]
  },
  {
   "cell_type": "markdown",
   "metadata": {},
   "source": [
    "In this notebook, Data Science Tools and Ecosystem are summarized."
   ]
  },
  {
   "cell_type": "markdown",
   "metadata": {
    "tags": []
   },
   "source": [
    "Some of the popular languages that Data Scientists use are:\n",
    "- **Python**: Python is the most popular language for data science due to its extensive libraries like NumPy, pandas, scikit-learn, and TensorFlow.\n",
    "- **R**: R is widely used for statistical analysis and data visualization, making it a valuable tool for data scientists.\n",
    "- **SQL**: SQL is essential for data manipulation and querying relational databases.\n",
    "- **Java**: Java is used for big data processing with technologies like Hadoop and Spark.\n",
    "- **SAS**: SAS is a software suite used for advanced analytics and data management.\n",
    "- **Julia**: Julia is a high-performance language designed for numerical and scientific computing.\n",
    "- **Scala**: Scala is often used with Apache Spark for distributed data processing.\n",
    "- **Matlab**: MATLAB is commonly used in academia and industry for numerical computing and data analysis.\n",
    "- **Julia**: Julia is a high-performance language designed for numerical and scientific computing.\n",
    "- **Scala**: Scala is often used with Apache Spark for distributed data processing.\n",
    "- **JavaScript**: JavaScript is used for web-based data visualizations with libraries like D3.js.\n",
    "- **C++**: C++ is used for performance-critical data processing tasks."
   ]
  },
  {
   "cell_type": "markdown",
   "metadata": {
    "tags": []
   },
   "source": [
    "Some of the commonly used libraries used by Data Scientists include: \n",
    "- **NumPy**\n",
    "- **pandas**\n",
    "- **scikit-learn**\n",
    "- **Matplotlib**\n",
    "- **Seaborn**\n",
    "- **TensorFlow**\n",
    "- **Keras**\n",
    "- **PyTorch**\n",
    "- **Statsmodels**\n",
    "- **NLTK**\n",
    "- **Beautiful Soup**\n",
    "- **Plotly**\n",
    "- **Bokeh**\n",
    "- **Folium**\n",
    "- **SQLAlchemy**\n",
    "- **OpenCV**\n"
   ]
  },
  {
   "cell_type": "markdown",
   "metadata": {},
   "source": [
    "| Data Science Tools  |\n",
    "|---------------------|\n",
    "| Jupyter Notebook    |\n",
    "| RStudio             |\n",
    "| Visual Studio Code  |\n"
   ]
  },
  {
   "cell_type": "markdown",
   "metadata": {},
   "source": [
    "Below are a few examples of evaluating arithmetic expressions in Python\n",
    "\n",
    "Example 1: Addition\n",
    "x = 5\n",
    "y = 3\n",
    "result = x + y\n",
    "\n"
   ]
  },
  {
   "cell_type": "code",
   "execution_count": 2,
   "metadata": {
    "tags": []
   },
   "outputs": [
    {
     "data": {
      "text/plain": [
       "17.0"
      ]
     },
     "execution_count": 2,
     "metadata": {},
     "output_type": "execute_result"
    }
   ],
   "source": [
    "(3*4)+5.\n",
    "#This a simple arithmetic expression to mutiply then add integers."
   ]
  },
  {
   "cell_type": "code",
   "execution_count": 8,
   "metadata": {
    "tags": []
   },
   "outputs": [
    {
     "data": {
      "text/plain": [
       "3.3333333333333335"
      ]
     },
     "execution_count": 8,
     "metadata": {},
     "output_type": "execute_result"
    }
   ],
   "source": [
    "# This will convert 200 minutes to hours by dividing by 60\n",
    "\n",
    "200/60\n"
   ]
  },
  {
   "cell_type": "markdown",
   "metadata": {
    "tags": []
   },
   "source": [
    "- **Objectives:**\n",
    "    - **In this notesbook we have learned some the popular languages, which are as follow**\n",
    "        - **R**\n",
    "        - **Python**\n",
    "        - **Julia**\n",
    "        - **SQl**\n",
    "    - **We have also learned some the popular libraries used in data science, which are as follow**\n",
    "        - **NUMPY**\n",
    "        - **pandas**\n",
    "        - **scikit-learn**\n",
    "        - **Matplotlib**\n",
    "        - **Seaborn**\n",
    "        - **TensorFlow**\n",
    "        - **Keras**\n",
    "        - **PyTorch**\n",
    "    - **We have also learned how simple arithmetic expression are performed**"
   ]
  },
  {
   "cell_type": "markdown",
   "metadata": {
    "tags": []
   },
   "source": [
    "#Author\n",
    "Hamad Ullah"
   ]
  },
  {
   "cell_type": "code",
   "execution_count": null,
   "metadata": {},
   "outputs": [],
   "source": []
  }
 ],
 "metadata": {
  "kernelspec": {
   "display_name": "Python",
   "language": "python",
   "name": "conda-env-python-py"
  },
  "language_info": {
   "codemirror_mode": {
    "name": "ipython",
    "version": 3
   },
   "file_extension": ".py",
   "mimetype": "text/x-python",
   "name": "python",
   "nbconvert_exporter": "python",
   "pygments_lexer": "ipython3",
   "version": "3.7.12"
  }
 },
 "nbformat": 4,
 "nbformat_minor": 4
}
